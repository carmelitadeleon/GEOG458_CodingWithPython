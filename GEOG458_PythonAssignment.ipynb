{
 "cells": [
  {
   "cell_type": "code",
   "execution_count": 1,
   "metadata": {},
   "outputs": [],
   "source": [
    "# Carmelita DeLeon\n",
    "# GEOG 458, Coding with Python"
   ]
  },
  {
   "cell_type": "markdown",
   "metadata": {},
   "source": [
    "##### Task 1\n",
    "[SF GIS Crime](https://nbviewer.jupyter.org/github/lmart999/GIS/blob/master/SF_GIS_Crime.ipynb)\n",
    "I thought this Notebook was quite intriguing as it pertained to Geography. \n",
    "Specifically, San Francisco's Drug Geography and it was a GIS analysis of public crime data in San Francisco, California.\n",
    "It interested me the most as it relates to GIS analysis and I was curious how said analysis was done.\n",
    "The format of the notebook was nicer and way structured than an RMarkdown HTML file.\n",
    "The presentation of the Notebook was easy to follow. Data visualization was cohesive as well. \n",
    "While I did not understand most of the code, I appreciated the author adding comments as it helped to understand it.\n",
    "The final visualization showed a map. However, I was not sure what this map was about as there was no title nor a legend. \n",
    "I only know that it included a polygon of San Francisco neighborhoods \n",
    "and I am assuming it is showing the places that had crime (which was mostly the northwestern side of San Francisco).\n",
    "[Source](https://pythontips.com/2013/07/30/20-python-libraries-you-cant-live-without/)\n",
    "\n",
    "##### Task 2\n",
    "A) What appear to be some of the most popular or widely-used python packages? Link to them and/or to the sources you used to answer this question. Describe what a few of them do.\n",
    "- Matplotlib - helps with data analyzing. You can generate plots, histograms, bar charts, scatterplots, etc. \n",
    "  Link: https://matplotlib.org/\n",
    "- Pandas - commonly used for data science. Provides fast, expressive, and flexible data structures to easily work with structured and time-series data.\n",
    "  Link: https://pandas.pydata.org/\n",
    "- NetworkX - python library for help with manipulating graphs, trees, and networks\n",
    "  Link: https://networkx.github.io/\n",
    "\n",
    "[Source](https://www.quora.com/What-are-some-of-the-most-useful-Python-libraries)\n",
    "\n",
    "B) You’ll often want to do the same things in python that you do in R, but the packages are not the same. So you’ll use similar, but not identical, libraries. Find and link a library that serves the same or a similar purpose as ggplot does for R.\n",
    "A library that is similar to R's ggplot/ggplot2 is \"plotnine\"\n",
    "Plotnine has basically the same functions as ggplot2. You can create histograms, scatterplots, heatmaps, boxplots and customize the color like ggplot2.\n",
    "Link: https://plotnine.readthedocs.io/en/stable/\n",
    "[Source](https://medium.com/@gscheithauer/data-visualization-in-python-like-in-rs-ggplot2-bc62f8debbf5)\n",
    "\n",
    "C) You’ll also want to work with data in a format similar to what we’ve become used to: things like dataframes. Go find a python library for data analysis that uses something like dataframes. Link it here!\n",
    "A python library that works with dataframes and analysis is Pandas. With pandas you can manipulate your dataset like selecting and replacing columns.\n",
    "Link: https://pandas.pydata.org/\n",
    "[Source](https://www.datacamp.com/community/tutorials/pandas-tutorial-dataframe-python)\n",
    "\n",
    "##### Task 3\n",
    "Differences between R and Python syntax are:\n",
    "1. When importing libraries/packages, with R you do \"library(package_name)\" while in Python you do \"import package_name\" \n",
    "2. When initializing a variable, in R you use \"->\" and in Python you use the \"=\" sign. \n",
    "3. To create a function in R, you use \"function_name(parameter_name) { }\" while in Python you use \"def function_name(parameter_name):\"\n"
   ]
  },
  {
   "cell_type": "code",
   "execution_count": 2,
   "metadata": {},
   "outputs": [
    {
     "name": "stdout",
     "output_type": "stream",
     "text": [
      "Hello,howareyou?\n"
     ]
    }
   ],
   "source": [
    "# Task 4\n",
    "a = \"Hello,\"\n",
    "b = \"how\"\n",
    "c = \"are\"\n",
    "d = \"you?\"\n",
    "\n",
    "print(a + b + c + d)"
   ]
  },
  {
   "cell_type": "code",
   "execution_count": 3,
   "metadata": {},
   "outputs": [
    {
     "name": "stdout",
     "output_type": "stream",
     "text": [
      "Hello,howareyou?4\n",
      "HELLO,HOWAREYOU?4\n"
     ]
    }
   ],
   "source": [
    "# Task 5\n",
    "e = 4\n",
    "print(a + b + c + d + str(e))\n",
    "print(a + b + c + d + str(e)).upper()"
   ]
  },
  {
   "cell_type": "code",
   "execution_count": 4,
   "metadata": {},
   "outputs": [
    {
     "data": {
      "text/plain": [
       "'Hello, how are you? 4'"
      ]
     },
     "execution_count": 4,
     "metadata": {},
     "output_type": "execute_result"
    }
   ],
   "source": [
    "# Task 6\n",
    "phrase = [a, b, c, d, str(e)]\n",
    "sentence = \" \".join(phrase)\n",
    "sentence"
   ]
  },
  {
   "cell_type": "code",
   "execution_count": 5,
   "metadata": {},
   "outputs": [
    {
     "data": {
      "text/plain": [
       "3"
      ]
     },
     "execution_count": 5,
     "metadata": {},
     "output_type": "execute_result"
    }
   ],
   "source": [
    "sentence.count('o')"
   ]
  },
  {
   "cell_type": "code",
   "execution_count": 6,
   "metadata": {},
   "outputs": [
    {
     "data": {
      "text/plain": [
       "11"
      ]
     },
     "execution_count": 6,
     "metadata": {},
     "output_type": "execute_result"
    }
   ],
   "source": [
    "sentence.find('are')"
   ]
  },
  {
   "cell_type": "code",
   "execution_count": 7,
   "metadata": {},
   "outputs": [
    {
     "data": {
      "text/plain": [
       "['Hello,', 'how']"
      ]
     },
     "execution_count": 7,
     "metadata": {},
     "output_type": "execute_result"
    }
   ],
   "source": [
    "# Task 7\n",
    "sentence.split()[0:2]"
   ]
  },
  {
   "cell_type": "code",
   "execution_count": 8,
   "metadata": {},
   "outputs": [
    {
     "data": {
      "text/plain": [
       "'Hey, how are you? '"
      ]
     },
     "execution_count": 8,
     "metadata": {},
     "output_type": "execute_result"
    }
   ],
   "source": [
    "# Task 8\n",
    "new_sentence = sentence.replace(\"Hello\", \"Hey\").strip(\"4\")\n",
    "new_sentence"
   ]
  },
  {
   "cell_type": "code",
   "execution_count": 9,
   "metadata": {},
   "outputs": [],
   "source": [
    "# Task 9\n",
    "words = new_sentence.split()"
   ]
  },
  {
   "cell_type": "code",
   "execution_count": 10,
   "metadata": {},
   "outputs": [
    {
     "data": {
      "text/plain": [
       "['Hey,', 'how', 'awesome', 'are', 'you?']"
      ]
     },
     "execution_count": 10,
     "metadata": {},
     "output_type": "execute_result"
    }
   ],
   "source": [
    "words.insert(2, \"awesome\")\n",
    "words"
   ]
  },
  {
   "cell_type": "code",
   "execution_count": 11,
   "metadata": {},
   "outputs": [
    {
     "name": "stdout",
     "output_type": "stream",
     "text": [
      "93\n",
      "4th Quartile\n"
     ]
    }
   ],
   "source": [
    "# Task 10\n",
    "import random\n",
    "number = random.randint(0,100)\n",
    "print(number)\n",
    "if number <= 25:\n",
    "    print(\"1st Quartile\")\n",
    "elif number > 25 and number <= 50:\n",
    "    print(\"2nd Quartile\")\n",
    "elif number > 50 and number <= 75:\n",
    "    print(\"3rd Quartile\")\n",
    "else:\n",
    "    print(\"4th Quartile\")"
   ]
  },
  {
   "cell_type": "code",
   "execution_count": 12,
   "metadata": {},
   "outputs": [
    {
     "name": "stdout",
     "output_type": "stream",
     "text": [
      "Warning, residents of Seattle, temperatures will reach sub-zero temperatures today, please stay indoors if possible.\n",
      "Warning, residents of Los Angeles, temperatures will reach sub-zero temperatures today, please stay indoors if possible.\n",
      "Warning, residents of Las Vegas, temperatures will reach sub-zero temperatures today, please stay indoors if possible.\n",
      "Warning, residents of New York City, temperatures will reach sub-zero temperatures today, please stay indoors if possible.\n",
      "Warning, residents of Miami, temperatures will reach sub-zero temperatures today, please stay indoors if possible.\n",
      "Warning, residents of Portland, temperatures will reach sub-zero temperatures today, please stay indoors if possible.\n"
     ]
    }
   ],
   "source": [
    "# Task 11\n",
    "cityName = [\"Seattle\", \"Los Angeles\", \"Las Vegas\", \"New York City\", \"Miami\", \"Portland\"]\n",
    "for CITY in cityName:\n",
    "    print(\"Warning, residents of \"+ CITY + \", temperatures will reach sub-zero temperatures today, please stay indoors if possible.\")"
   ]
  },
  {
   "cell_type": "code",
   "execution_count": 13,
   "metadata": {},
   "outputs": [
    {
     "name": "stdout",
     "output_type": "stream",
     "text": [
      "C://Users/sw3et/Geog_458/Washington.shp\n",
      "C://Users/sw3et/Geog_458/California.shp\n",
      "C://Users/sw3et/Geog_458/Nevada.shp\n",
      "C://Users/sw3et/Geog_458/Idaho.shp\n",
      "C://Users/sw3et/Geog_458/Montana.shp\n",
      "C://Users/sw3et/Geog_458/Utah.shp\n",
      "C://Users/sw3et/Geog_458/Colorado.shp\n",
      "C://Users/sw3et/Geog_458/New Mexico.shp\n"
     ]
    }
   ],
   "source": [
    "# Task 12\n",
    "# Got help from Jin\n",
    "list = []\n",
    "state = [\"Washington\", \"California\", \"Nevada\", \"Idaho\", \"Montana\", \"Utah\", \"Colorado\", \"New Mexico\"]\n",
    "\n",
    "for stateName in state:\n",
    "    filename = \"C://Users/sw3et/Geog_458/filename.shp\"\n",
    "    filename = filename.replace(\"filename\", stateName)\n",
    "    list.append(filename)\n",
    "    print(filename)"
   ]
  },
  {
   "cell_type": "code",
   "execution_count": null,
   "metadata": {
    "scrolled": true
   },
   "outputs": [
    {
     "name": "stdout",
     "output_type": "stream",
     "text": [
      "T-Minus 10\n",
      "T-Minus 9\n",
      "T-Minus 8\n",
      "T-Minus 7\n",
      "T-Minus 6\n",
      "T-Minus 5\n",
      "T-Minus 4\n",
      "T-Minus 3\n",
      "T-Minus 2\n",
      "T-Minus 1\n",
      "T-Minus 0\n"
     ]
    }
   ],
   "source": [
    "# Task 13\n",
    "count = 10\n",
    "while count <= 10:\n",
    "    if count >= 0:\n",
    "        print(\"T-Minus \" + str(count))\n",
    "        count = count - 1"
   ]
  },
  {
   "cell_type": "code",
   "execution_count": 1,
   "metadata": {},
   "outputs": [
    {
     "name": "stdout",
     "output_type": "stream",
     "text": [
      "T Minus 15\n",
      "T Minus 14\n",
      "T Minus 13\n",
      "T Minus 12\n",
      "T Minus 11\n",
      "T Minus 10\n",
      "T Minus 9\n",
      "T Minus 8\n",
      "T Minus 7\n",
      "T Minus 6\n",
      "T Minus 5\n",
      "T Minus 4\n",
      "T Minus 3\n",
      "T Minus 2\n",
      "T Minus 1\n",
      "T Minus 0\n"
     ]
    }
   ],
   "source": [
    "def countdown(number):\n",
    "    while number >= 0:\n",
    "            print(\"T Minus \" + str(number))\n",
    "            number = number -1\n",
    "countdown(15)"
   ]
  },
  {
   "cell_type": "code",
   "execution_count": 3,
   "metadata": {},
   "outputs": [],
   "source": [
    "# Task 14\n",
    "def quartile_calc(number):\n",
    "    if number > 0 and number <= 25:\n",
    "        print(\"1st Quartile\")\n",
    "    elif number > 25 and number <= 50:\n",
    "        print(\"2nd Quartile\")\n",
    "    elif number > 50 and number <= 75:\n",
    "        print(\"3rd Quartile\")\n",
    "    elif number > 75 and number <= 100:\n",
    "        print(\"4th Quartile\")\n",
    "    else:\n",
    "        print(\"Error: Number is out of range\")"
   ]
  },
  {
   "cell_type": "code",
   "execution_count": 7,
   "metadata": {},
   "outputs": [
    {
     "name": "stdout",
     "output_type": "stream",
     "text": [
      "Error: Number is out of range\n"
     ]
    }
   ],
   "source": [
    "# Testing error\n",
    "quartile_calc(-6)"
   ]
  },
  {
   "cell_type": "code",
   "execution_count": 9,
   "metadata": {},
   "outputs": [
    {
     "name": "stdout",
     "output_type": "stream",
     "text": [
      "2nd Quartile\n"
     ]
    }
   ],
   "source": [
    "# Testing valid statement\n",
    "quartile_calc(33)"
   ]
  },
  {
   "cell_type": "code",
   "execution_count": 11,
   "metadata": {},
   "outputs": [
    {
     "name": "stdout",
     "output_type": "stream",
     "text": [
      "3rd Quartile\n"
     ]
    }
   ],
   "source": [
    "# Testing valid statement 2\n",
    "quartile_calc(70)"
   ]
  },
  {
   "cell_type": "code",
   "execution_count": 12,
   "metadata": {},
   "outputs": [
    {
     "name": "stdout",
     "output_type": "stream",
     "text": [
      "4th Quartile\n"
     ]
    }
   ],
   "source": [
    "# Testing valid statement 3\n",
    "quartile_calc(88)"
   ]
  }
 ],
 "metadata": {
  "kernelspec": {
   "display_name": "Python 2",
   "language": "python",
   "name": "python2"
  },
  "language_info": {
   "codemirror_mode": {
    "name": "ipython",
    "version": 2
   },
   "file_extension": ".py",
   "mimetype": "text/x-python",
   "name": "python",
   "nbconvert_exporter": "python",
   "pygments_lexer": "ipython2",
   "version": "2.7.15"
  }
 },
 "nbformat": 4,
 "nbformat_minor": 2
}
